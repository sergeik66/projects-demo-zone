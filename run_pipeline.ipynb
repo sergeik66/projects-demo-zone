{
 "cells": [
  {
   "cell_type": "code",
   "execution_count": null,
   "metadata": {},
   "outputs": [],
   "source": [
    "# Import the FabricInterface from fabric_interface.py\n",
    "%run fabric_interface.py"
   ]
  },
  {
   "cell_type": "code",
   "execution_count": null,
   "metadata": {},
   "outputs": [],
   "source": [
    "# Import necessary modules\n",
    "import logging\n",
    "import os\n",
    "\n",
    "# Configure logging\n",
    "logging.basicConfig(level=logging.INFO)\n",
    "logger = logging.getLogger(__name__)\n",
    "\n",
    "# Define pipeline parameters\n",
    "pipeline_parameters = {\n",
    "    \"feed_name\": \"sample_feed\",\n",
    "    \"product_name\": \"sample_product\",\n",
    "    \"lh_metadata_id\": \"metadata_123\",\n",
    "    \"workspace_id\": \"ws_456\",\n",
    "    \"lh_raw_id\": \"raw_789\",\n",
    "    \"lh_observability_id\": \"obs_101\"\n",
    "}\n",
    "\n",
    "# Initialize FabricInterface\n",
    "fabric_client = FabricInterface()\n",
    "\n",
    "# Specify the pipeline name\n",
    "pipeline_name = \"sample_pipeline\"\n",
    "\n",
    "try:\n",
    "    # Create and run the pipeline, awaiting completion\n",
    "    logger.info(f\"Starting pipeline run for {pipeline_name} with parameters: {pipeline_parameters}\")\n",
    "    pipeline_run = fabric_client.create_run(pipeline_name=pipeline_name, pipeline_parameters=pipeline_parameters)\n",
    "    \n",
    "    # Await pipeline completion\n",
    "    final_state = fabric_client.await_run_completion(pipeline_run)\n",
    "    \n",
    "    # Get and log the final state\n",
    "    run_state = fabric_client.get_run_state(pipeline_run.run_id)\n",
    "    logger.info(f\"Pipeline run {pipeline_run.run_id} finished with status: {run_state.status}\")\n",
    "    \n",
    "    # Check if pipeline succeeded\n",
    "    if run_state.status == \"Succeeded\":\n",
    "        logger.info(f\"Pipeline {pipeline_name} completed successfully.\")\n",
    "    else:\n",
    "        logger.error(f\"Pipeline {pipeline_name} failed with status: {run_state.status}\")\n",
    "        \n",
    "except Exception as e:\n",
    "    logger.error(f\"An error occurred while running the pipeline: {str(e)}\")\n",
    "    raise"
   ]
  }
 ],
 "metadata": {
  "kernelspec": {
   "display_name": "Python 3",
   "language": "python",
   "name": "python3"
  },
  "language_info": {
   "codemirror_mode": {
    "name": "ipython",
    "version": 3
   },
   "file_extension": ".py",
   "mimetype": "text/x-python",
   "name": "python",
   "nbconvert_exporter": "python",
   "pygments_lexer": "ipython3",
   "version": "3.8.0"
  }
 },
 "nbformat": 4,
 "nbformat_minor": 5
}
